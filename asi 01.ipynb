{
 "cells": [
  {
   "cell_type": "code",
   "execution_count": 1,
   "id": "ccbe2b42",
   "metadata": {},
   "outputs": [
    {
     "name": "stdout",
     "output_type": "stream",
     "text": [
      "Twinkle, twinkle, little star,\n",
      "          How I wonder what you are\n",
      "                  Up above the world so high,\n",
      "                  Like a diamond in the sky.\n",
      "Twinkle, twinkle, little star,\n",
      "          How I wonder what you are\n"
     ]
    }
   ],
   "source": [
    "print(\"Twinkle, twinkle, little star,\")\n",
    "print(\"          How I wonder what you are\")\n",
    "print(\"                  Up above the world so high,\")\n",
    "print(\"                  Like a diamond in the sky.\")\n",
    "print(\"Twinkle, twinkle, little star,\")\n",
    "print(\"          How I wonder what you are\")"
   ]
  },
  {
   "cell_type": "code",
   "execution_count": 2,
   "id": "0da65950",
   "metadata": {},
   "outputs": [
    {
     "name": "stdout",
     "output_type": "stream",
     "text": [
      "3.8.8\n"
     ]
    }
   ],
   "source": [
    "from platform import python_version\n",
    "\n",
    "print(python_version())"
   ]
  },
  {
   "cell_type": "code",
   "execution_count": 5,
   "id": "632d7e0e",
   "metadata": {
    "scrolled": true
   },
   "outputs": [
    {
     "name": "stdout",
     "output_type": "stream",
     "text": [
      "Enter the radius of the circle 120\n",
      "Area of the circle for given radius is 90432.0\n"
     ]
    }
   ],
   "source": [
    "A = float(input(\"Enter the radius of the circle \"))\n",
    "π = 3.14\n",
    "Area = 2*π*(A*A)\n",
    "print(\"Area of the circle for given radius is\", Area)\n"
   ]
  },
  {
   "cell_type": "code",
   "execution_count": 7,
   "id": "031d1862",
   "metadata": {},
   "outputs": [
    {
     "name": "stdout",
     "output_type": "stream",
     "text": [
      "Enter first nameKHUBAIB\n",
      "Enter last nameMUKHTAR\n",
      "MUKHTAR   KHUBAIB\n"
     ]
    }
   ],
   "source": [
    "A = str(input(\"Enter first name\"))\n",
    "B = str(input(\"Enter last name\"))\n",
    "print(B,\" \",A)\n"
   ]
  },
  {
   "cell_type": "code",
   "execution_count": 8,
   "id": "87c4719d",
   "metadata": {},
   "outputs": [
    {
     "name": "stdout",
     "output_type": "stream",
     "text": [
      "22\n",
      "22\n",
      "Sum of given numbers is numbers is 44\n"
     ]
    }
   ],
   "source": [
    "C = int(input())\n",
    "D = int(input())\n",
    "Total = C + D\n",
    "print(\"Sum of given numbers is numbers is\",Total)"
   ]
  },
  {
   "cell_type": "code",
   "execution_count": 10,
   "id": "f44029f9",
   "metadata": {},
   "outputs": [],
   "source": [
    "import time"
   ]
  },
  {
   "cell_type": "code",
   "execution_count": 13,
   "id": "42e23d55",
   "metadata": {},
   "outputs": [
    {
     "data": {
      "text/plain": [
       "'Fri Dec 31 16:36:22 2021'"
      ]
     },
     "execution_count": 13,
     "metadata": {},
     "output_type": "execute_result"
    }
   ],
   "source": [
    "f=time.time()\n",
    "\n",
    "time.ctime((f))"
   ]
  },
  {
   "cell_type": "code",
   "execution_count": null,
   "id": "e54b1bc5",
   "metadata": {},
   "outputs": [],
   "source": []
  }
 ],
 "metadata": {
  "kernelspec": {
   "display_name": "Python 3",
   "language": "python",
   "name": "python3"
  },
  "language_info": {
   "codemirror_mode": {
    "name": "ipython",
    "version": 3
   },
   "file_extension": ".py",
   "mimetype": "text/x-python",
   "name": "python",
   "nbconvert_exporter": "python",
   "pygments_lexer": "ipython3",
   "version": "3.8.8"
  }
 },
 "nbformat": 4,
 "nbformat_minor": 5
}
